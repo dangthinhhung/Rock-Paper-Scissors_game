{
 "cells": [
  {
   "attachments": {},
   "cell_type": "markdown",
   "metadata": {},
   "source": [
    "***GENERATE DATA***"
   ]
  },
  {
   "cell_type": "code",
   "execution_count": 5,
   "metadata": {},
   "outputs": [],
   "source": [
    "import cv2\n",
    "import csv\n",
    "import mediapipe as mp\n",
    "\n",
    "def generate_data(label, num_samples):\n",
    "    label_name_mapping = {'p': '1', 'r': '2', 's': '3'}\n",
    "    mp_drawing = mp.solutions.drawing_utils\n",
    "    mp_hands = mp.solutions.hands\n",
    "\n",
    "    # For webcam input:\n",
    "    cap = cv2.VideoCapture(0)\n",
    "    # Get the width and height of the video capture\n",
    "    width = int(cap.get(cv2.CAP_PROP_FRAME_WIDTH))\n",
    "    height = int(cap.get(cv2.CAP_PROP_FRAME_HEIGHT))\n",
    "\n",
    "    with mp_hands.Hands(\n",
    "        min_detection_confidence=0.5,\n",
    "        min_tracking_confidence=0.5) as hands:\n",
    "        \n",
    "        # Open the CSV file for writing\n",
    "        if label =='p':\n",
    "            csv_file = open(\"paper.csv\", \"a\", newline=\"\")\n",
    "            csv_writer = csv.writer(csv_file)\n",
    "        elif label =='r':\n",
    "            csv_file = open(\"rock.csv\", \"a\", newline=\"\")\n",
    "            csv_writer = csv.writer(csv_file)\n",
    "        else:\n",
    "            csv_file = open(\"scissors.csv\", \"a\", newline=\"\")\n",
    "            csv_writer = csv.writer(csv_file)\n",
    "        \n",
    "        samples_written = 0  # Counter for samples written to CSV file\n",
    "        \n",
    "        while cap.isOpened() and samples_written < num_samples:\n",
    "            success, image = cap.read()\n",
    "            if not success:\n",
    "                print(\"Ignoring empty camera frame.\")\n",
    "                # If loading a video, use 'break' instead of 'continue'.\n",
    "                continue\n",
    "\n",
    "            # Flip the image horizontally for a later selfie-view display, and convert\n",
    "            # the BGR image to RGB.\n",
    "            image = cv2.cvtColor(cv2.flip(image, 1), cv2.COLOR_BGR2RGB)\n",
    "            # Draw the rectangle on the frame\n",
    "            rectangle_width = 500\n",
    "            rectangle_height = 500\n",
    "            cv2.rectangle(image, (width - rectangle_width, 0), (width, rectangle_height), (255, 255, 255), 2)\n",
    "\n",
    "            # To improve performance, optionally mark the image as not writeable to\n",
    "            # pass by reference.\n",
    "            image.flags.writeable = False\n",
    "            results = hands.process(image)\n",
    "\n",
    "            # Draw the hand annotations on the image.\n",
    "            image.flags.writeable = True\n",
    "            image = cv2.cvtColor(image, cv2.COLOR_RGB2BGR)\n",
    "            if results.multi_hand_landmarks:\n",
    "                for hand_landmarks in results.multi_hand_landmarks:\n",
    "                    # Check if hand is within the specified rectangle\n",
    "                    hand_rect = hand_landmarks.landmark[mp_hands.HandLandmark.WRIST].x * width\n",
    "                    if hand_rect > width - rectangle_width:\n",
    "                        mp_drawing.draw_landmarks(image, hand_landmarks, mp_hands.HAND_CONNECTIONS)\n",
    "                    \n",
    "                        # Extract and write the hand landmarks coordinates to the CSV file\n",
    "                        coordinates = []\n",
    "                        label_name = label_name_mapping.get(label)\n",
    "                        coordinates.append(label_name)\n",
    "                        for landmark in hand_landmarks.landmark:\n",
    "                            # Remove parentheses and quotation marks\n",
    "                            x = landmark.x\n",
    "                            y = landmark.y\n",
    "                            coordinates.append(x)\n",
    "                            coordinates.append(y)\n",
    "                        csv_writer.writerow(coordinates)\n",
    "                        \n",
    "                        samples_written += 1  # Increment the counter\n",
    "                \n",
    "                # Display the number of samples collected\n",
    "            text = f\"Samples collected: {samples_written} / {num_samples}\"\n",
    "            cv2.putText(image, text, (50, 50), cv2.FONT_HERSHEY_SIMPLEX, 1, (0, 0, 255), 2)\n",
    "\n",
    "            cv2.imshow('MediaPipe Hands', image)\n",
    "            \n",
    "            if cv2.waitKey(1) == ord('q'):\n",
    "                break\n",
    "\n",
    "        # Close the CSV file\n",
    "        csv_file.close()\n",
    "\n",
    "    cap.release()\n",
    "    cv2.destroyAllWindows()\n",
    "\n"
   ]
  },
  {
   "cell_type": "code",
   "execution_count": 11,
   "metadata": {},
   "outputs": [],
   "source": [
    "generate_data('r', 1000)"
   ]
  },
  {
   "attachments": {},
   "cell_type": "markdown",
   "metadata": {},
   "source": [
    "***DATA PROCESSING***"
   ]
  },
  {
   "cell_type": "code",
   "execution_count": 9,
   "metadata": {},
   "outputs": [],
   "source": [
    "import pandas as pd"
   ]
  },
  {
   "cell_type": "code",
   "execution_count": 10,
   "metadata": {},
   "outputs": [],
   "source": [
    "for field in ['paper', 'rock', 'scissors']:\n",
    "    df = pd.read_csv(f\"/Users/anhhung/Desktop/TaiLieu/DPL/r_p_s/RPS/{field}.csv\")\n",
    "    df.columns = df.columns.str.strip()  # Remove leading and trailing whitespace from column names\n",
    "    lx = [f'x{i}' for i in range(21)]\n",
    "    ly = [f'y{i}' for i in range(21)]\n",
    "    # Get the values of x0 and y0\n",
    "    x0 = df[\"x0\"]\n",
    "    y0 = df[\"y0\"]\n",
    "\n",
    "    # Adjust the values of x0, x1, ..., x20\n",
    "    df.loc[:, lx] = df.loc[:, lx].sub(x0, axis=0)\n",
    "\n",
    "    # Adjust the values of y0, y1, ..., y20\n",
    "    df.loc[:, ly] = df.loc[:, ly].sub(y0, axis=0)\n",
    "\n",
    "    # Round the values to 5 decimal places\n",
    "    df.loc[:, lx + ly] = df.loc[:, lx + ly].round(5)\n",
    "\n",
    "    # Save the modified CSV file\n",
    "    df.to_csv(f\"processed_{field}.csv\", index=False)\n"
   ]
  },
  {
   "cell_type": "code",
   "execution_count": null,
   "metadata": {},
   "outputs": [],
   "source": []
  }
 ],
 "metadata": {
  "kernelspec": {
   "display_name": "base",
   "language": "python",
   "name": "python3"
  },
  "language_info": {
   "codemirror_mode": {
    "name": "ipython",
    "version": 3
   },
   "file_extension": ".py",
   "mimetype": "text/x-python",
   "name": "python",
   "nbconvert_exporter": "python",
   "pygments_lexer": "ipython3",
   "version": "3.9.13"
  },
  "orig_nbformat": 4
 },
 "nbformat": 4,
 "nbformat_minor": 2
}
